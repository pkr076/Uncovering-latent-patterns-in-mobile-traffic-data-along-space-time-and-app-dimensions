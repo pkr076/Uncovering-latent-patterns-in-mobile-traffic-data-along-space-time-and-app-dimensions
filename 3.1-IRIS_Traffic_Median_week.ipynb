{
 "cells": [
  {
   "cell_type": "markdown",
   "metadata": {},
   "source": [
    "# IRIS Traffic Map"
   ]
  },
  {
   "cell_type": "code",
   "execution_count": 1,
   "metadata": {},
   "outputs": [],
   "source": [
    "import numpy as np\n",
    "import pandas as pd\n",
    "import matplotlib.pyplot as plt\n",
    "import tensorly as tl\n",
    "import time\n",
    "from tqdm import tqdm\n",
    "import os\n",
    "import geopandas as gpd\n",
    "\n",
    "import matplotlib.pyplot as plt\n",
    "import matplotlib.cm as cm\n",
    "import matplotlib.colors as colrs\n",
    "\n",
    "from descartes.patch import PolygonPatch\n",
    "\n",
    "import common\n",
    "import folium\n",
    "from shapely.geometry import Point, mapping, box\n",
    "from shapely.geometry import shape as Shape\n",
    "from shapely.ops import transform as Shapely_transform\n",
    "\n",
    "import mapply\n",
    "\n",
    "from pyspark.sql import SparkSession\n",
    "import pyspark.sql.functions as spark_functions\n",
    "import pyspark.sql.types as spark_types\n",
    "from pyspark.sql.functions import col, pandas_udf, PandasUDFType,udf,broadcast"
   ]
  },
  {
   "cell_type": "code",
   "execution_count": 2,
   "metadata": {},
   "outputs": [],
   "source": [
    "# Font\n",
    "plt.rcParams['font.family'] = 'serif'\n",
    "plt.rcParams['font.serif'] = ['CMU Serif Roman'] + plt.rcParams['font.serif']\n",
    "plt.rcParams['font.size'] = 18\n",
    "\n",
    "wgs_to_ntf = common.transform_wgs_to_ntf()\n",
    "ntf_to_wgs = common.transform_ntf_to_wgs()\n",
    "\n",
    "mapply.init(\n",
    "    n_workers=37,\n",
    "    chunk_size=1,\n",
    "    progressbar=True\n",
    ")"
   ]
  },
  {
   "cell_type": "code",
   "execution_count": 3,
   "metadata": {},
   "outputs": [],
   "source": [
    "USER = os.getlogin()\n",
    "WORKING_DIR = f'/home/{USER}/data/Land_use'\n",
    "DATA_DIR = f'{WORKING_DIR}/data'\n",
    "\n",
    "CITY_NAME = 'Lyon'"
   ]
  },
  {
   "cell_type": "code",
   "execution_count": 4,
   "metadata": {},
   "outputs": [
    {
     "name": "stderr",
     "output_type": "stream",
     "text": [
      "2023-08-14 19:06:00,344 WARN util.NativeCodeLoader: Unable to load native-hadoop library for your platform... using builtin-java classes where applicable\n",
      "Setting default log level to \"WARN\".\n",
      "To adjust logging level use sc.setLogLevel(newLevel). For SparkR, use setLogLevel(newLevel).\n",
      "2023-08-14 19:06:00,724 WARN spark.SparkConf: Note that spark.local.dir will be overridden by the value set by the cluster manager (via SPARK_LOCAL_DIRS in mesos/standalone/kubernetes and LOCAL_DIRS in YARN).\n",
      "2023-08-14 19:06:01,799 WARN util.Utils: spark.executor.instances less than spark.dynamicAllocation.minExecutors is invalid, ignoring its setting, please update your configs.\n"
     ]
    }
   ],
   "source": [
    "spark = SparkSession.builder\\\n",
    "    .master('spark://santiago:7077')\\\n",
    "    .appName('1.5-IRIS_Traffic_Median_week')\\\n",
    "    .config('spark.network.timeout', 300)\\\n",
    "    .config('spark.dynamicAllocation.enabled', 'true')\\\n",
    "    .config('spark.shuffle.service.enabled', 'true')\\\n",
    "    .config('spark.dynamicAllocation.initialExecutors', 1)\\\n",
    "    .config('spark.dynamicAllocation.maxExecutors', 60)\\\n",
    "    .config('spark.dynamicAllocation.minExecutors', 1)\\\n",
    "    .config('spark.driver.maxResultSize', '120g')\\\n",
    "    .config('spark.executor.cores', 1)\\\n",
    "    .config('spark.executor.memory', '3g')\\\n",
    "    .config('spark.memory.fraction', 0.6)\\\n",
    "    .config('spark.cores.max', 60)\\\n",
    "    .config('spark.executor.memoryOverhead', '8g')\\\n",
    "    .config('spark.driver.memoryOverhead', '8g')\\\n",
    "    .getOrCreate()\n",
    "\n",
    "spark.conf.set('spark.sql.session.timeZone', 'Europe/Paris')"
   ]
  },
  {
   "cell_type": "markdown",
   "metadata": {},
   "source": [
    "## Load Data"
   ]
  },
  {
   "cell_type": "markdown",
   "metadata": {},
   "source": [
    "### Load IRIS to cell ratio"
   ]
  },
  {
   "cell_type": "code",
   "execution_count": 5,
   "metadata": {},
   "outputs": [
    {
     "data": {
      "text/html": [
       "<div>\n",
       "<style scoped>\n",
       "    .dataframe tbody tr th:only-of-type {\n",
       "        vertical-align: middle;\n",
       "    }\n",
       "\n",
       "    .dataframe tbody tr th {\n",
       "        vertical-align: top;\n",
       "    }\n",
       "\n",
       "    .dataframe thead th {\n",
       "        text-align: right;\n",
       "    }\n",
       "</style>\n",
       "<table border=\"1\" class=\"dataframe\">\n",
       "  <thead>\n",
       "    <tr style=\"text-align: right;\">\n",
       "      <th></th>\n",
       "      <th>index</th>\n",
       "      <th>iris_index</th>\n",
       "      <th>iris_code</th>\n",
       "      <th>cell_id</th>\n",
       "      <th>ratio</th>\n",
       "    </tr>\n",
       "  </thead>\n",
       "  <tbody>\n",
       "    <tr>\n",
       "      <th>0</th>\n",
       "      <td>68</td>\n",
       "      <td>0</td>\n",
       "      <td>692820201</td>\n",
       "      <td>69988</td>\n",
       "      <td>0.014023</td>\n",
       "    </tr>\n",
       "    <tr>\n",
       "      <th>1</th>\n",
       "      <td>68</td>\n",
       "      <td>0</td>\n",
       "      <td>692820201</td>\n",
       "      <td>69989</td>\n",
       "      <td>0.132527</td>\n",
       "    </tr>\n",
       "  </tbody>\n",
       "</table>\n",
       "</div>"
      ],
      "text/plain": [
       "   index  iris_index  iris_code  cell_id     ratio\n",
       "0     68           0  692820201    69988  0.014023\n",
       "1     68           0  692820201    69989  0.132527"
      ]
     },
     "execution_count": 5,
     "metadata": {},
     "output_type": "execute_result"
    }
   ],
   "source": [
    "df_iris_ratio = pd.read_pickle(f'{DATA_DIR}/cell_iris_ratio/df_ratio_{CITY_NAME}.pkl')\n",
    "df_iris_ratio.drop(columns=['geometry'], inplace=True)\n",
    "\n",
    "# from geopandas dataframe to pandas. Spark will complain of load a geopandas dataframe later\n",
    "df_iris_ratio = pd.DataFrame(df_iris_ratio)\n",
    "\n",
    "df_iris_ratio = df_iris_ratio.reset_index()\n",
    "df_iris_ratio.head(2)"
   ]
  },
  {
   "cell_type": "code",
   "execution_count": 6,
   "metadata": {},
   "outputs": [
    {
     "name": "stdout",
     "output_type": "stream",
     "text": [
      "Number of iris: 512\n"
     ]
    }
   ],
   "source": [
    "# Total number of irises in the city\n",
    "number_of_iris = len(set(df_iris_ratio['iris_index']))\n",
    "print(f'Number of iris: {number_of_iris}')"
   ]
  },
  {
   "cell_type": "markdown",
   "metadata": {},
   "source": [
    "### Load Mask"
   ]
  },
  {
   "cell_type": "code",
   "execution_count": 7,
   "metadata": {},
   "outputs": [
    {
     "data": {
      "image/png": "[encoded data removed]",
      "text/plain": [
       "<Figure size 600x600 with 2 Axes>"
      ]
     },
     "metadata": {},
     "output_type": "display_data"
    }
   ],
   "source": [
    "df_masks = pd.read_pickle(f'{DATA_DIR}/df_masks.pkl')\n",
    "city_data = df_masks[df_masks['name']==CITY_NAME].iloc[0]\n",
    "\n",
    "city_shape = city_data['shape']\n",
    "city_mask = city_data['mask']\n",
    "city_n_rows = city_mask.shape[0]\n",
    "city_n_cols = city_mask.shape[1]\n",
    "city_left_x = city_data['left_x']\n",
    "city_bottom_y = city_data['bottom_y']\n",
    "\n",
    "city_centroid = city_shape.centroid\n",
    "\n",
    "my_cmap_mask = cm.get_cmap('Greens').copy()\n",
    "my_cmap_mask.set_under('w', 0)\n",
    "norm_mask = colrs.Normalize(vmin=0.1, vmax=1)\n",
    "\n",
    "plt.figure(figsize=(6, 6))\n",
    "plt.imshow(city_mask, origin='lower', cmap=my_cmap_mask, norm=norm_mask, interpolation='nearest')\n",
    "plt.colorbar()\n",
    "plt.show()"
   ]
  },
  {
   "cell_type": "markdown",
   "metadata": {},
   "source": [
    "### Load traffic maps"
   ]
  },
  {
   "cell_type": "code",
   "execution_count": 8,
   "metadata": {},
   "outputs": [
    {
     "name": "stderr",
     "output_type": "stream",
     "text": [
      "[Stage 1:>                                                          (0 + 1) / 1]\r"
     ]
    },
    {
     "name": "stdout",
     "output_type": "stream",
     "text": [
      "+----+-------------------+--------+-----------+--------------------+\n",
      "|city|                app|    time|day_of_week|         traffic_map|\n",
      "+----+-------------------+--------+-----------+--------------------+\n",
      "|Lyon|Amazon Web Services|02:30:00|  Wednesday|[[0.0, 0.0, 0.0, ...|\n",
      "|Lyon|Amazon Web Services|08:00:00|  Wednesday|[[0.0, 0.0, 0.0, ...|\n",
      "+----+-------------------+--------+-----------+--------------------+\n",
      "only showing top 2 rows\n",
      "\n"
     ]
    },
    {
     "name": "stderr",
     "output_type": "stream",
     "text": [
      "                                                                                \r"
     ]
    }
   ],
   "source": [
    "filename = f'hdfs://santiago:9000/land_use/{CITY_NAME}/traffic_maps_median_week.parquet'\n",
    "sdf_traffic = spark.read.parquet(filename)\n",
    "sdf_traffic.show(2)"
   ]
  },
  {
   "cell_type": "code",
   "execution_count": 9,
   "metadata": {},
   "outputs": [
    {
     "name": "stderr",
     "output_type": "stream",
     "text": [
      "2023-08-14 19:06:10,559 WARN scheduler.TaskSetManager: Stage 3 contains a task of very large size (7542 KiB). The maximum recommended task size is 1000 KiB.\n",
      "[Stage 3:>                                                          (0 + 1) / 1]\r"
     ]
    },
    {
     "name": "stdout",
     "output_type": "stream",
     "text": [
      "+----+-------------------+--------+-----------+--------------------+\n",
      "|city|                app|    time|day_of_week|         traffic_map|\n",
      "+----+-------------------+--------+-----------+--------------------+\n",
      "|Lyon|Amazon Web Services|02:30:00|  Wednesday|[[0.0, 0.0, 0.0, ...|\n",
      "|Lyon|Amazon Web Services|08:00:00|  Wednesday|[[0.0, 0.0, 0.0, ...|\n",
      "+----+-------------------+--------+-----------+--------------------+\n",
      "only showing top 2 rows\n",
      "\n"
     ]
    },
    {
     "name": "stderr",
     "output_type": "stream",
     "text": [
      "                                                                                \r"
     ]
    }
   ],
   "source": [
    "### ⚠️⚠️ Small test, comment this for large dataset ⚠️⚠️\n",
    "some_rows = sdf_traffic.take(15)\n",
    "data = []\n",
    "for row in some_rows:\n",
    "    data.append(row.asDict())\n",
    "\n",
    "df = pd.DataFrame(data)\n",
    "df.iteritems = df.items # workaround for pandas remove of iteritems\n",
    "sdf_traffic = spark.createDataFrame(df)\n",
    "sdf_traffic.show(2)\n",
    "### ⚠️⚠️ Small test, comment this for large dataset ⚠️⚠️"
   ]
  },
  {
   "cell_type": "markdown",
   "metadata": {},
   "source": [
    "### From Squares to IRIS"
   ]
  },
  {
   "cell_type": "code",
   "execution_count": 10,
   "metadata": {},
   "outputs": [],
   "source": [
    "# return_schema = spark_types.ArrayType(spark_types.FloatType())\n",
    "# input_schema = spark_types.ArrayType(spark_types.ArrayType(spark_types.FloatType()))\n",
    "\n",
    "# @udf(returnType=return_schema)\n",
    "# def get_traffic_map_iris_old(square_traffic_map: input_schema) -> return_schema:\n",
    "#     # initialize the iris traffic map\n",
    "#     iris_traffic_map = np.zeros((number_of_iris))\n",
    "\n",
    "#     traffic_map = np.array(square_traffic_map)\n",
    "#     city_n_rows = traffic_map.shape[0]\n",
    "#     city_n_cols = traffic_map.shape[1]\n",
    "#     for row_idx in range(city_n_rows):\n",
    "#         for col_idx in range(city_n_cols):\n",
    "#             if city_mask[row_idx, col_idx] == 0:\n",
    "#                 continue\n",
    "\n",
    "#             traffic_val = traffic_map[row_idx, col_idx]\n",
    "#             cell_id = int(row_idx*city_n_cols + col_idx)\n",
    "\n",
    "#             df_iris_ratio_filtered = df_iris_ratio[df_iris_ratio['cell_id'] == cell_id]\n",
    "            \n",
    "#             for row in df_iris_ratio_filtered.to_dict('records'):\n",
    "#                 iris_index = row['iris_index']\n",
    "#                 ratio = row['ratio']\n",
    "#                 iris_traffic_map[iris_index] += ratio * traffic_val\n",
    "\n",
    "#     return iris_traffic_map.tolist()"
   ]
  },
  {
   "cell_type": "code",
   "execution_count": 11,
   "metadata": {},
   "outputs": [],
   "source": [
    "return_schema = spark_types.ArrayType(spark_types.FloatType())\n",
    "input_schema = spark_types.ArrayType(spark_types.ArrayType(spark_types.FloatType()))\n",
    "\n",
    "@udf(returnType=return_schema)\n",
    "def get_traffic_map_iris(square_traffic_map: input_schema) -> return_schema:\n",
    "\n",
    "    traffic_map = np.array(square_traffic_map)\n",
    "    traffic_map = traffic_map.flatten()\n",
    "\n",
    "    # initialize the iris traffic map\n",
    "    iris_traffic_map = np.zeros((number_of_iris))\n",
    "\n",
    "    iris_indexs = set(df_iris_ratio['iris_index'])\n",
    "    for iris_index in iris_indexs:\n",
    "        df_iris_ratio_filtered = df_iris_ratio[df_iris_ratio['iris_index'] == iris_index]\n",
    "        cell_ids = list(df_iris_ratio_filtered['cell_id'])\n",
    "        ratios = np.array(list(df_iris_ratio_filtered['ratio']))\n",
    "\n",
    "        traffic_cell_ids = traffic_map[cell_ids]\n",
    "        traffic_cell_ids = traffic_cell_ids * ratios\n",
    "        iris_traffic = np.sum(traffic_cell_ids)\n",
    "        iris_traffic_map[iris_index] = iris_traffic\n",
    "\n",
    "    return iris_traffic_map.tolist()"
   ]
  },
  {
   "cell_type": "code",
   "execution_count": 12,
   "metadata": {},
   "outputs": [],
   "source": [
    "sdf_traffic = sdf_traffic.withColumn('traffic_map_iris', get_traffic_map_iris(sdf_traffic['traffic_map']))\n",
    "# sdf_traffic.show(2)"
   ]
  },
  {
   "cell_type": "markdown",
   "metadata": {},
   "source": [
    "## Save data"
   ]
  },
  {
   "cell_type": "code",
   "execution_count": 13,
   "metadata": {},
   "outputs": [
    {
     "name": "stderr",
     "output_type": "stream",
     "text": [
      "2023-08-14 19:06:11,829 WARN scheduler.TaskSetManager: Stage 4 contains a task of very large size (7542 KiB). The maximum recommended task size is 1000 KiB.\n",
      "                                                                                \r"
     ]
    }
   ],
   "source": [
    "sdf_traffic.write.parquet(f'hdfs://santiago:9000/land_use/{CITY_NAME}/iris_traffic_maps_median_week.parquet', mode='overwrite')"
   ]
  }
 ],
 "metadata": {
  "kernelspec": {
   "display_name": "dataScience",
   "language": "python",
   "name": "python3"
  },
  "language_info": {
   "codemirror_mode": {
    "name": "ipython",
    "version": 3
   },
   "file_extension": ".py",
   "mimetype": "text/x-python",
   "name": "python",
   "nbconvert_exporter": "python",
   "pygments_lexer": "ipython3",
   "version": "3.8.13"
  },
  "orig_nbformat": 4
 },
 "nbformat": 4,
 "nbformat_minor": 2
}
