{
 "cells": [
  {
   "attachments": {},
   "cell_type": "markdown",
   "metadata": {},
   "source": [
    "# Median Week"
   ]
  },
  {
   "cell_type": "code",
   "execution_count": 1,
   "metadata": {},
   "outputs": [],
   "source": [
    "import os\n",
    "from datetime import datetime\n",
    "import numpy as np\n",
    "import pandas as pd\n",
    "import matplotlib.pyplot as plt\n",
    "\n",
    "from pyspark.sql import SparkSession\n",
    "from pyspark.sql import functions as spark_functions\n",
    "from pyspark.sql import types as spark_types\n",
    "from pyspark.sql.types import *\n",
    "from pyspark.sql.functions import pandas_udf"
   ]
  },
  {
   "cell_type": "code",
   "execution_count": 2,
   "metadata": {},
   "outputs": [],
   "source": [
    "plt.rcParams['font.family'] = 'serif'\n",
    "plt.rcParams['font.serif'] = ['CMU Serif Roman'] + plt.rcParams['font.serif']\n",
    "plt.rcParams['font.size'] = 14"
   ]
  },
  {
   "cell_type": "code",
   "execution_count": 3,
   "metadata": {},
   "outputs": [],
   "source": [
    "USER = os.getlogin()\n",
    "WORKING_DIR = f'/home/{USER}/data/Land_use'\n",
    "DATA_DIR = f'{WORKING_DIR}/data'\n",
    "METROPOLES_SHAPE = f'{DATA_DIR}/cities'\n",
    "IMG_DIR = f'{WORKING_DIR}/images'\n",
    "\n",
    "CITY = 'Lyon'\n",
    "\n",
    "TIME_RESOLUTION_IN_MINUTES = 30\n",
    "TIME_RESOLUTION_IN_SECONDS = TIME_RESOLUTION_IN_MINUTES * 60"
   ]
  },
  {
   "cell_type": "code",
   "execution_count": 4,
   "metadata": {},
   "outputs": [
    {
     "name": "stderr",
     "output_type": "stream",
     "text": [
      "2023-08-14 13:21:42,095 WARN util.NativeCodeLoader: Unable to load native-hadoop library for your platform... using builtin-java classes where applicable\n",
      "Setting default log level to \"WARN\".\n",
      "To adjust logging level use sc.setLogLevel(newLevel). For SparkR, use setLogLevel(newLevel).\n",
      "2023-08-14 13:21:42,380 WARN spark.SparkConf: Note that spark.local.dir will be overridden by the value set by the cluster manager (via SPARK_LOCAL_DIRS in mesos/standalone/kubernetes and LOCAL_DIRS in YARN).\n"
     ]
    }
   ],
   "source": [
    "spark = SparkSession.builder\\\n",
    "    .master('spark://santiago:7077')\\\n",
    "    .appName('0-Traffic_Median_week')\\\n",
    "    .config('spark.network.timeout', 300)\\\n",
    "    .config('spark.dynamicAllocation.enabled', 'true')\\\n",
    "    .config('spark.shuffle.service.enabled', 'true')\\\n",
    "    .config('spark.dynamicAllocation.initialExecutors', 1)\\\n",
    "    .config('spark.dynamicAllocation.maxExecutors', 10)\\\n",
    "    .config('spark.dynamicAllocation.minExecutors', 0)\\\n",
    "    .config('spark.driver.maxResultSize', '120g')\\\n",
    "    .config('spark.executor.cores', 1)\\\n",
    "    .config('spark.executor.memory', '3g')\\\n",
    "    .config('spark.memory.fraction', 0.6)\\\n",
    "    .config('spark.cores.max', 10)\\\n",
    "    .config('spark.executor.memoryOverhead', '8g')\\\n",
    "    .config('spark.driver.memoryOverhead', '8g')\\\n",
    "    .getOrCreate()\n",
    "\n",
    "spark.conf.set(\"spark.sql.session.timeZone\", \"Europe/Paris\")"
   ]
  },
  {
   "attachments": {},
   "cell_type": "markdown",
   "metadata": {},
   "source": [
    "### Load Data"
   ]
  },
  {
   "cell_type": "code",
   "execution_count": 5,
   "metadata": {},
   "outputs": [
    {
     "name": "stderr",
     "output_type": "stream",
     "text": [
      "[Stage 1:>                                                          (0 + 1) / 1]\r"
     ]
    },
    {
     "name": "stdout",
     "output_type": "stream",
     "text": [
      "+----+-------------------+-----------+--------------------+--------------------+\n",
      "|city|                app|       time|      traffic_map_up|      traffic_map_dn|\n",
      "+----+-------------------+-----------+--------------------+--------------------+\n",
      "|Lyon|Amazon Web Services|  1.55286E9|[[0.0, 0.0, 0.0, ...|[[0.0, 0.0, 0.0, ...|\n",
      "|Lyon|Amazon Web Services|1.5529509E9|[[0.0, 0.0, 0.0, ...|[[0.0, 0.0, 0.0, ...|\n",
      "+----+-------------------+-----------+--------------------+--------------------+\n",
      "only showing top 2 rows\n",
      "\n"
     ]
    },
    {
     "name": "stderr",
     "output_type": "stream",
     "text": [
      "                                                                                \r"
     ]
    }
   ],
   "source": [
    "filename = f'hdfs://santiago:9000/HRDS/Traffic_maps/{CITY}_traffic_maps.parquet'\n",
    "sdf_traffic = spark.read.parquet(filename)\n",
    "\n",
    "sdf_traffic.show(2)"
   ]
  },
  {
   "cell_type": "code",
   "execution_count": 6,
   "metadata": {},
   "outputs": [
    {
     "name": "stderr",
     "output_type": "stream",
     "text": [
      "2023-08-14 13:21:54,743 WARN scheduler.TaskSetManager: Stage 3 contains a task of very large size (53824 KiB). The maximum recommended task size is 1000 KiB.\n",
      "[Stage 3:>                                                          (0 + 1) / 1]\r"
     ]
    },
    {
     "name": "stdout",
     "output_type": "stream",
     "text": [
      "+----+-------------------+-----------+--------------------+--------------------+\n",
      "|city|                app|       time|      traffic_map_up|      traffic_map_dn|\n",
      "+----+-------------------+-----------+--------------------+--------------------+\n",
      "|Lyon|Amazon Web Services|  1.55286E9|[[0.0, 0.0, 0.0, ...|[[0.0, 0.0, 0.0, ...|\n",
      "|Lyon|Amazon Web Services|1.5529509E9|[[0.0, 0.0, 0.0, ...|[[0.0, 0.0, 0.0, ...|\n",
      "+----+-------------------+-----------+--------------------+--------------------+\n",
      "only showing top 2 rows\n",
      "\n"
     ]
    },
    {
     "name": "stderr",
     "output_type": "stream",
     "text": [
      "                                                                                \r"
     ]
    }
   ],
   "source": [
    "### ⚠️⚠️ Small test, comment this for large dataset ⚠️⚠️\n",
    "some_rows = sdf_traffic.take(50)\n",
    "data = []\n",
    "for row in some_rows:\n",
    "    data.append(row.asDict())\n",
    "\n",
    "df = pd.DataFrame(data)\n",
    "df.iteritems = df.items # workaround for pandas remove of iteritems\n",
    "sdf_traffic = spark.createDataFrame(df)\n",
    "sdf_traffic.show(2)\n",
    "### ⚠️⚠️ Small test, comment this for large dataset ⚠️⚠️"
   ]
  },
  {
   "attachments": {},
   "cell_type": "markdown",
   "metadata": {},
   "source": [
    "## Agg by time (30 mins) and also direction"
   ]
  },
  {
   "cell_type": "code",
   "execution_count": 7,
   "metadata": {},
   "outputs": [
    {
     "name": "stderr",
     "output_type": "stream",
     "text": [
      "2023-08-14 13:23:55,847 WARN scheduler.TaskSetManager: Stage 4 contains a task of very large size (53824 KiB). The maximum recommended task size is 1000 KiB.\n",
      "[Stage 4:>                                                          (0 + 1) / 1]\r"
     ]
    },
    {
     "name": "stdout",
     "output_type": "stream",
     "text": [
      "+----+-------------------+--------------------+--------------------+-------------------+\n",
      "|city|                app|      traffic_map_up|      traffic_map_dn|           datetime|\n",
      "+----+-------------------+--------------------+--------------------+-------------------+\n",
      "|Lyon|Amazon Web Services|[[0.0, 0.0, 0.0, ...|[[0.0, 0.0, 0.0, ...|2019-03-17 23:00:00|\n",
      "|Lyon|Amazon Web Services|[[0.0, 0.0, 0.0, ...|[[0.0, 0.0, 0.0, ...|2019-03-19 00:00:00|\n",
      "|Lyon|Amazon Web Services|[[0.0, 0.0, 0.0, ...|[[0.0, 0.0, 0.0, ...|2019-03-22 23:30:00|\n",
      "|Lyon|Amazon Web Services|[[0.0, 0.0, 0.0, ...|[[0.0, 0.0, 0.0, ...|2019-03-26 20:00:00|\n",
      "|Lyon|Amazon Web Services|[[0.0, 0.0, 0.0, ...|[[0.0, 0.0, 0.0, ...|2019-03-28 14:30:00|\n",
      "+----+-------------------+--------------------+--------------------+-------------------+\n",
      "only showing top 5 rows\n",
      "\n"
     ]
    },
    {
     "name": "stderr",
     "output_type": "stream",
     "text": [
      "                                                                                \r"
     ]
    }
   ],
   "source": [
    "sdf_traffic = sdf_traffic.withColumn('time', spark_functions.floor(sdf_traffic['time']/TIME_RESOLUTION_IN_SECONDS)*TIME_RESOLUTION_IN_SECONDS)\n",
    "sdf_traffic = sdf_traffic.withColumn('datetime', sdf_traffic['time'].cast(spark_types.TimestampType()))\n",
    "sdf_traffic = sdf_traffic.drop('time')\n",
    "\n",
    "sdf_traffic.show(5)"
   ]
  },
  {
   "cell_type": "code",
   "execution_count": 8,
   "metadata": {},
   "outputs": [],
   "source": [
    "schema_traffic_map = spark_types.ArrayType(spark_types.ArrayType(spark_types.FloatType()))\n",
    "\n",
    "@pandas_udf(schema_traffic_map)\n",
    "def compute_traffic_map_udf(traffic_map_up: pd.Series, traffic_map_dn: pd.Series) -> schema_traffic_map:\n",
    "\n",
    "    df_traffic = pd.DataFrame({'traffic_map_up': traffic_map_up,\n",
    "                               'traffic_map_dn': traffic_map_dn})\n",
    "    \n",
    "    df_traffic['total_traffic'] = df_traffic.apply(lambda row: np.array(row['traffic_map_up']) + np.array(row['traffic_map_dn']), axis=1)\n",
    "\n",
    "    df_traffic = df_traffic.drop(['traffic_map_up', 'traffic_map_dn'], axis=1)\n",
    "    df_traffic_sum = df_traffic.sum(axis=0)\n",
    "    total_traffic_map = df_traffic_sum['total_traffic']\n",
    "    \n",
    "    return total_traffic_map.tolist()"
   ]
  },
  {
   "cell_type": "code",
   "execution_count": 9,
   "metadata": {},
   "outputs": [
    {
     "name": "stderr",
     "output_type": "stream",
     "text": [
      "2023-08-14 13:27:28,580 WARN scheduler.TaskSetManager: Stage 5 contains a task of very large size (53824 KiB). The maximum recommended task size is 1000 KiB.\n",
      "                                                                                \r"
     ]
    },
    {
     "name": "stdout",
     "output_type": "stream",
     "text": [
      "+----+-------------------+-------------------+--------------------+\n",
      "|city|                app|           datetime|         traffic_map|\n",
      "+----+-------------------+-------------------+--------------------+\n",
      "|Lyon|Amazon Web Services|2019-05-10 15:00:00|[[0.0, 0.0, 0.0, ...|\n",
      "|Lyon|Amazon Web Services|2019-05-21 15:30:00|[[0.0, 0.0, 0.0, ...|\n",
      "|Lyon|Amazon Web Services|2019-05-19 03:30:00|[[0.0, 0.0, 0.0, ...|\n",
      "|Lyon|    Apple App Store|2019-04-15 05:30:00|[[0.0, 0.0, 0.0, ...|\n",
      "|Lyon|Amazon Web Services|2019-04-27 23:30:00|[[0.0, 0.0, 0.0, ...|\n",
      "+----+-------------------+-------------------+--------------------+\n",
      "only showing top 5 rows\n",
      "\n"
     ]
    }
   ],
   "source": [
    "sdf_traffic_agg = sdf_traffic.groupBy('city', 'app','datetime').agg(compute_traffic_map_udf('traffic_map_up', 'traffic_map_dn').alias('traffic_map'))\n",
    "sdf_traffic_agg.show(5)"
   ]
  },
  {
   "attachments": {},
   "cell_type": "markdown",
   "metadata": {},
   "source": [
    "## Median Week"
   ]
  },
  {
   "attachments": {},
   "cell_type": "markdown",
   "metadata": {},
   "source": [
    "### Adding day of week & time"
   ]
  },
  {
   "cell_type": "code",
   "execution_count": 10,
   "metadata": {},
   "outputs": [
    {
     "name": "stderr",
     "output_type": "stream",
     "text": [
      "2023-08-14 13:30:21,880 WARN scheduler.TaskSetManager: Stage 13 contains a task of very large size (53824 KiB). The maximum recommended task size is 1000 KiB.\n",
      "                                                                                \r"
     ]
    },
    {
     "name": "stdout",
     "output_type": "stream",
     "text": [
      "+----+-------------------+-------------------+--------------------+--------+-----------+\n",
      "|city|                app|           datetime|         traffic_map|    time|day_of_week|\n",
      "+----+-------------------+-------------------+--------------------+--------+-----------+\n",
      "|Lyon|Amazon Web Services|2019-05-10 15:00:00|[[0.0, 0.0, 0.0, ...|15:00:00|     Friday|\n",
      "|Lyon|Amazon Web Services|2019-05-21 15:30:00|[[0.0, 0.0, 0.0, ...|15:30:00|    Tuesday|\n",
      "|Lyon|Amazon Web Services|2019-05-19 03:30:00|[[0.0, 0.0, 0.0, ...|03:30:00|     Sunday|\n",
      "|Lyon|    Apple App Store|2019-04-15 05:30:00|[[0.0, 0.0, 0.0, ...|05:30:00|     Monday|\n",
      "|Lyon|Amazon Web Services|2019-04-27 23:30:00|[[0.0, 0.0, 0.0, ...|23:30:00|   Saturday|\n",
      "+----+-------------------+-------------------+--------------------+--------+-----------+\n",
      "only showing top 5 rows\n",
      "\n"
     ]
    }
   ],
   "source": [
    "sdf_traffic_agg = sdf_traffic_agg.withColumn('time', spark_functions.date_format('datetime', 'HH:mm:ss'))\n",
    "sdf_traffic_agg = sdf_traffic_agg.withColumn('day_of_week', spark_functions.date_format('datetime', 'EEEE'))\n",
    "\n",
    "sdf_traffic_agg.show(5)"
   ]
  },
  {
   "attachments": {},
   "cell_type": "markdown",
   "metadata": {},
   "source": [
    "### UDF for median week"
   ]
  },
  {
   "cell_type": "code",
   "execution_count": 11,
   "metadata": {},
   "outputs": [],
   "source": [
    "schema_traffic_map = spark_types.ArrayType(spark_types.ArrayType(spark_types.FloatType()))\n",
    "\n",
    "@pandas_udf(schema_traffic_map)\n",
    "def compute_median_traffic_map_udf(agg_traffic_map: pd.Series) -> schema_traffic_map :\n",
    "\n",
    "    df_traffic = pd.DataFrame({'traffic_map': agg_traffic_map})\n",
    "    \n",
    "    df_traffic['traffic_map'] = df_traffic.apply(lambda row: np.array(list(row['traffic_map'])), axis=1)\n",
    "\n",
    "    grouped_traffic_map = np.array(list(df_traffic['traffic_map']))\n",
    "    median_week_traffic_map = np.median(grouped_traffic_map, axis=0)\n",
    "    \n",
    "    return  median_week_traffic_map.tolist()"
   ]
  },
  {
   "cell_type": "code",
   "execution_count": 12,
   "metadata": {},
   "outputs": [
    {
     "name": "stderr",
     "output_type": "stream",
     "text": [
      "2023-08-14 13:30:31,892 WARN scheduler.TaskSetManager: Stage 21 contains a task of very large size (53824 KiB). The maximum recommended task size is 1000 KiB.\n",
      "                                                                                \r"
     ]
    },
    {
     "name": "stdout",
     "output_type": "stream",
     "text": [
      "+----+-------------------+--------+-----------+--------------------+\n",
      "|city|                app|    time|day_of_week|         traffic_map|\n",
      "+----+-------------------+--------+-----------+--------------------+\n",
      "|Lyon|Amazon Web Services|13:00:00|   Thursday|[[0.0, 0.0, 0.0, ...|\n",
      "|Lyon|Amazon Web Services|19:00:00|    Tuesday|[[0.0, 0.0, 0.0, ...|\n",
      "+----+-------------------+--------+-----------+--------------------+\n",
      "only showing top 2 rows\n",
      "\n"
     ]
    }
   ],
   "source": [
    "sdf_traffic_agg_median_week = sdf_traffic_agg.groupBy('city', 'app', 'time', 'day_of_week').agg(compute_median_traffic_map_udf('traffic_map').alias('traffic_map'))\n",
    "sdf_traffic_agg_median_week.show(2)"
   ]
  },
  {
   "attachments": {},
   "cell_type": "markdown",
   "metadata": {},
   "source": [
    "### Save file"
   ]
  },
  {
   "cell_type": "code",
   "execution_count": null,
   "metadata": {},
   "outputs": [],
   "source": [
    "sdf_traffic_agg_median_week.write.parquet(f'hdfs://santiago:9000/land_use/{CITY}/{CITY}_traffic_maps_median_week.parquet', mode='overwrite')"
   ]
  }
 ],
 "metadata": {
  "kernelspec": {
   "display_name": "dataScience2",
   "language": "python",
   "name": "python3"
  },
  "language_info": {
   "codemirror_mode": {
    "name": "ipython",
    "version": 3
   },
   "file_extension": ".py",
   "mimetype": "text/x-python",
   "name": "python",
   "nbconvert_exporter": "python",
   "pygments_lexer": "ipython3",
   "version": "3.8.13"
  },
  "orig_nbformat": 4
 },
 "nbformat": 4,
 "nbformat_minor": 2
}
