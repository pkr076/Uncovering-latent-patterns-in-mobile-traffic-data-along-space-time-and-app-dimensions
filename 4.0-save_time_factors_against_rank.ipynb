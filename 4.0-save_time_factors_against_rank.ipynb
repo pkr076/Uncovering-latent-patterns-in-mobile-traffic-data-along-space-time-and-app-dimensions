{
 "cells": [
  {
   "cell_type": "code",
   "execution_count": 4,
   "metadata": {},
   "outputs": [],
   "source": [
    "import os\n",
    "import sys\n",
    "import numpy as np\n",
    "import pandas as pd\n",
    "import tensorly as tl\n",
    "import time\n",
    "import copy\n",
    "import matplotlib.pyplot as plt\n",
    "import matplotlib.cm as cm\n",
    "import matplotlib.colors as colrs\n",
    "\n",
    "import pickle as pkl\n",
    "\n",
    "from tqdm import tqdm\n",
    "import torch\n",
    "import gc"
   ]
  },
  {
   "cell_type": "code",
   "execution_count": 5,
   "metadata": {},
   "outputs": [],
   "source": [
    "tl.set_backend('pytorch')\n",
    "\n",
    "os.environ['CUDA_DEVICE_ORDER']= 'PCI_BUS_ID' # see issue #152\n",
    "os.environ['CUDA_VISIBLE_DEVICES'] = '1'"
   ]
  },
  {
   "cell_type": "code",
   "execution_count": 9,
   "metadata": {},
   "outputs": [],
   "source": [
    "USER = os.getlogin()\n",
    "WORKING_DIR = f'/home/{USER}/data/Land_use'\n",
    "DATA_DIR = f'{WORKING_DIR}/data'\n",
    "IMAGE_DIR = f'{WORKING_DIR}/images'\n",
    "CITY_NAME = 'Paris'"
   ]
  },
  {
   "cell_type": "code",
   "execution_count": 10,
   "metadata": {},
   "outputs": [],
   "source": [
    "rank = [5, 5, 5]\n",
    "\n",
    "if len(sys.argv) > 4:\n",
    "    if sys.argv[1] == '-my_params':\n",
    "    \n",
    "        rank = [int(sys.argv[2]), int(sys.argv[3]), int(sys.argv[4])]"
   ]
  },
  {
   "cell_type": "code",
   "execution_count": 11,
   "metadata": {},
   "outputs": [],
   "source": [
    "fd = open(f'{DATA_DIR}/{CITY_NAME}/{CITY_NAME}_iris_srca_tensor.pkl', 'rb')\n",
    "numpy_tensor = pkl.load(fd)\n",
    "numpy_tensor = numpy_tensor[0]\n",
    "fd.close()"
   ]
  },
  {
   "cell_type": "code",
   "execution_count": 12,
   "metadata": {},
   "outputs": [
    {
     "name": "stdout",
     "output_type": "stream",
     "text": [
      "5\t5\t5\t2.63\t0.0459\t0.2142\t1581.9972\n"
     ]
    }
   ],
   "source": [
    "start_time = time.time()\n",
    "\n",
    "tensorly_tensor = tl.tensor(numpy_tensor, device='cuda', dtype=torch.float32)\n",
    "core, factors = tl.decomposition.tucker(tensorly_tensor, rank=rank)\n",
    "end_time = time.time()\n",
    "delta_time = (end_time - start_time)\n",
    "\n",
    "tensorly_tensor_approx = tl.tucker_to_tensor((core, factors))\n",
    "mse_tensor = tl.metrics.regression.MSE(tensorly_tensor, tensorly_tensor_approx)\n",
    "rmse_tensor = tl.metrics.regression.RMSE(tensorly_tensor, tensorly_tensor_approx)\n",
    "# congruence, _ = tl.metrics.congruence_coefficient(tensorly_tensor, tensorly_tensor_approx)\n",
    "\n",
    "numpy_tensor_approx = tensorly_tensor_approx.cpu().numpy()\n",
    "l2_norm_error = np.linalg.norm(numpy_tensor - numpy_tensor_approx)\n",
    "\n",
    "print(f'{rank[0]}\\t{rank[1]}\\t{rank[2]}\\t{delta_time:.2f}\\t{mse_tensor:.4f}\\t{rmse_tensor:.4f}\\t{l2_norm_error:.4f}')"
   ]
  },
  {
   "cell_type": "code",
   "execution_count": 13,
   "metadata": {},
   "outputs": [],
   "source": [
    "time_factor = factors[2].cpu().numpy()"
   ]
  },
  {
   "cell_type": "code",
   "execution_count": 14,
   "metadata": {},
   "outputs": [],
   "source": [
    "list_time = []\n",
    "for i in range(0,48):\n",
    "    hour = int(i/2)\n",
    "    hour = f\"{hour:02}\" # add leading zero\n",
    "    if i%2 == 0:\n",
    "        minute = '00'\n",
    "    else:\n",
    "        minute = '30'\n",
    "    list_time.append(f'{hour}:{minute}')"
   ]
  },
  {
   "cell_type": "code",
   "execution_count": 17,
   "metadata": {},
   "outputs": [],
   "source": [
    "def save_time_factors(factor_matrix, list_ranks):   # tuple_ranks = (space, app, time)\n",
    "    global_min_value = np.min(factor_matrix)\n",
    "    global_max_value = np.max(factor_matrix)\n",
    "    #print(global_min_value, global_max_value)\n",
    "\n",
    "    my_cmap = plt.cm.RdBu_r\n",
    "    my_norm = plt.cm.colors.TwoSlopeNorm(vmin=global_min_value, vmax=global_max_value/2, vcenter=0)\n",
    "\n",
    "    labels = ['Sunday', 'Monday', 'Tuesday', 'Wednesday', 'Thursday', 'Friday', 'Saturday']\n",
    "    fig = plt.figure(figsize=(20,40))\n",
    "    #fig.suptitle(f'TimeFactor_rank_545')\n",
    "    list_axes = []\n",
    "\n",
    "    for i in range(0, list_ranks[2]):\n",
    "        #time_factor_i = time_factor_loaded[:,i]\n",
    "        time_factor_i = time_factor[:,i]\n",
    "        reshaped_time_factor_i = time_factor_i.reshape(7,48)\n",
    "        labels = ['Sunday', 'Monday', 'Tuesday', 'Wednesday', 'Thursday', 'Friday', 'Saturday']\n",
    "        x = list(range(0,48))\n",
    "        \n",
    "        ax = fig.add_subplot(list_ranks[2], 1, i+1)\n",
    "        list_axes.append(ax)\n",
    "        ax.imshow(reshaped_time_factor_i, cmap=my_cmap, interpolation='nearest', aspect='auto', norm = my_norm)\n",
    "        ax.set_xticks(x)\n",
    "        ax.set_xticklabels(list_time, rotation=90)\n",
    "        ax.set_yticks(range(0,7))\n",
    "        ax.set_yticklabels(labels)\n",
    "        ax.set_title(f'Time Factor_{i}_rank_{list_ranks[0]}{list_ranks[1]}{list_ranks[2]}')\n",
    "\n",
    "    plt.colorbar(plt.cm.ScalarMappable(cmap=my_cmap, norm= my_norm), ax=list_axes)\n",
    "    plt.savefig(f'{IMAGE_DIR}/{CITY_NAME}_time_factors/{CITY_NAME}_{rank[0]}{rank[1]}{rank[2]}.png', bbox_inches='tight', dpi=300)\n",
    "    plt.close()"
   ]
  },
  {
   "cell_type": "code",
   "execution_count": 18,
   "metadata": {},
   "outputs": [],
   "source": [
    "save_time_factors(time_factor, rank)"
   ]
  }
 ],
 "metadata": {
  "kernelspec": {
   "display_name": "dataScience",
   "language": "python",
   "name": "datascience"
  },
  "language_info": {
   "codemirror_mode": {
    "name": "ipython",
    "version": 3
   },
   "file_extension": ".py",
   "mimetype": "text/x-python",
   "name": "python",
   "nbconvert_exporter": "python",
   "pygments_lexer": "ipython3",
   "version": "3.8.13"
  },
  "orig_nbformat": 4
 },
 "nbformat": 4,
 "nbformat_minor": 2
}
