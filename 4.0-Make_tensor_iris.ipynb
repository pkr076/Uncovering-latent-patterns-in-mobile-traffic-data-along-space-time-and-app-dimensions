{
 "cells": [
  {
   "attachments": {},
   "cell_type": "markdown",
   "metadata": {},
   "source": [
    "## Make 3-d tensor with space(iris), app and time as dimension for median week traffic maps"
   ]
  },
  {
   "cell_type": "code",
   "execution_count": 1,
   "metadata": {},
   "outputs": [],
   "source": [
    "import os\n",
    "import sys\n",
    "import numpy as np\n",
    "import pandas as pd\n",
    "import time\n",
    "import copy\n",
    "import matplotlib.pyplot as plt\n",
    "import matplotlib.cm as cm\n",
    "import matplotlib.colors as colrs\n",
    "\n",
    "import pickle as pkl\n",
    "\n",
    "from tqdm import tqdm\n",
    "import torch\n",
    "import gc\n"
   ]
  },
  {
   "cell_type": "code",
   "execution_count": 2,
   "metadata": {},
   "outputs": [],
   "source": [
    "USER = os.getlogin()\n",
    "WORKING_DIR = f'/home/{USER}/data/Land_use'\n",
    "DATA_DIR = f'{WORKING_DIR}/data'\n",
    "IMAGE_DIR = f'{WORKING_DIR}/images'\n",
    "CITY_NAME = 'Paris'"
   ]
  },
  {
   "cell_type": "code",
   "execution_count": 3,
   "metadata": {},
   "outputs": [],
   "source": [
    "plt.rcParams['font.family'] = 'serif'\n",
    "plt.rcParams['font.serif'] = ['CMU Serif Roman'] + plt.rcParams['font.serif']\n",
    "plt.rcParams['font.size'] = 18"
   ]
  },
  {
   "cell_type": "code",
   "execution_count": null,
   "metadata": {},
   "outputs": [],
   "source": [
    "# df_mask = pd.read_pickle(f'{DATA_DIR}/df_masks.pkl')\n",
    "# city_row = df_mask[df_mask['name'] == CITY_NAME].iloc[0]\n",
    "\n",
    "# city_shape = city_row['shape']\n",
    "# city_mask = city_row['mask']\n",
    "# city_left_x = city_row['left_x']\n",
    "# city_bottom_y = city_row['bottom_y']"
   ]
  },
  {
   "attachments": {},
   "cell_type": "markdown",
   "metadata": {},
   "source": [
    "### Load Data"
   ]
  },
  {
   "cell_type": "code",
   "execution_count": 4,
   "metadata": {},
   "outputs": [
    {
     "data": {
      "text/html": [
       "<div>\n",
       "<style scoped>\n",
       "    .dataframe tbody tr th:only-of-type {\n",
       "        vertical-align: middle;\n",
       "    }\n",
       "\n",
       "    .dataframe tbody tr th {\n",
       "        vertical-align: top;\n",
       "    }\n",
       "\n",
       "    .dataframe thead th {\n",
       "        text-align: right;\n",
       "    }\n",
       "</style>\n",
       "<table border=\"1\" class=\"dataframe\">\n",
       "  <thead>\n",
       "    <tr style=\"text-align: right;\">\n",
       "      <th></th>\n",
       "      <th>city</th>\n",
       "      <th>app</th>\n",
       "      <th>time</th>\n",
       "      <th>day_of_week</th>\n",
       "      <th>traffic_map_iris</th>\n",
       "      <th>iris_traffic_map_srca</th>\n",
       "    </tr>\n",
       "  </thead>\n",
       "  <tbody>\n",
       "    <tr>\n",
       "      <th>0</th>\n",
       "      <td>Paris</td>\n",
       "      <td>Amazon Web Services</td>\n",
       "      <td>01:00:00</td>\n",
       "      <td>Friday</td>\n",
       "      <td>[756557.75, 441333.875, 105561.203125, 211886....</td>\n",
       "      <td>[0.057484827291603036, 0.04971500651103322, 0....</td>\n",
       "    </tr>\n",
       "    <tr>\n",
       "      <th>1</th>\n",
       "      <td>Paris</td>\n",
       "      <td>Amazon Web Services</td>\n",
       "      <td>16:00:00</td>\n",
       "      <td>Friday</td>\n",
       "      <td>[2459350.0, 1037933.375, 325833.90625, 1299623...</td>\n",
       "      <td>[-0.11984061817532497, -0.04115146238746292, 0...</td>\n",
       "    </tr>\n",
       "    <tr>\n",
       "      <th>2</th>\n",
       "      <td>Paris</td>\n",
       "      <td>Apple App Store</td>\n",
       "      <td>17:30:00</td>\n",
       "      <td>Thursday</td>\n",
       "      <td>[187772864.0, 43094516.0, 8510793.0, 65463148....</td>\n",
       "      <td>[0.168997213096074, -0.140662831596498, -0.178...</td>\n",
       "    </tr>\n",
       "    <tr>\n",
       "      <th>3</th>\n",
       "      <td>Paris</td>\n",
       "      <td>Apple Mail</td>\n",
       "      <td>03:30:00</td>\n",
       "      <td>Wednesday</td>\n",
       "      <td>[8740.5126953125, 504.6463928222656, 1567.0026...</td>\n",
       "      <td>[-0.2957118163870927, -0.9230939313388649, -0....</td>\n",
       "    </tr>\n",
       "    <tr>\n",
       "      <th>4</th>\n",
       "      <td>Paris</td>\n",
       "      <td>Apple Music</td>\n",
       "      <td>06:30:00</td>\n",
       "      <td>Thursday</td>\n",
       "      <td>[1702352.75, 1864531.75, 276829.8125, 2417798....</td>\n",
       "      <td>[-0.24182257603396887, 0.006167592594721744, -...</td>\n",
       "    </tr>\n",
       "  </tbody>\n",
       "</table>\n",
       "</div>"
      ],
      "text/plain": [
       "    city                  app      time day_of_week   \n",
       "0  Paris  Amazon Web Services  01:00:00      Friday  \\\n",
       "1  Paris  Amazon Web Services  16:00:00      Friday   \n",
       "2  Paris      Apple App Store  17:30:00    Thursday   \n",
       "3  Paris           Apple Mail  03:30:00   Wednesday   \n",
       "4  Paris          Apple Music  06:30:00    Thursday   \n",
       "\n",
       "                                    traffic_map_iris   \n",
       "0  [756557.75, 441333.875, 105561.203125, 211886....  \\\n",
       "1  [2459350.0, 1037933.375, 325833.90625, 1299623...   \n",
       "2  [187772864.0, 43094516.0, 8510793.0, 65463148....   \n",
       "3  [8740.5126953125, 504.6463928222656, 1567.0026...   \n",
       "4  [1702352.75, 1864531.75, 276829.8125, 2417798....   \n",
       "\n",
       "                               iris_traffic_map_srca  \n",
       "0  [0.057484827291603036, 0.04971500651103322, 0....  \n",
       "1  [-0.11984061817532497, -0.04115146238746292, 0...  \n",
       "2  [0.168997213096074, -0.140662831596498, -0.178...  \n",
       "3  [-0.2957118163870927, -0.9230939313388649, -0....  \n",
       "4  [-0.24182257603396887, 0.006167592594721744, -...  "
      ]
     },
     "execution_count": 4,
     "metadata": {},
     "output_type": "execute_result"
    }
   ],
   "source": [
    "# filename = f'{DATA_DIR}/iris_traffic_maps_srca_median_week.pkl'\n",
    "filename = '/home/jupyter-landy/data/Land_use/Santiago/iris_srca_traffic_maps_median_week.pkl'\n",
    "df_traffic_maps = pd.read_pickle(filename)\n",
    "df_traffic_maps.head()"
   ]
  },
  {
   "cell_type": "code",
   "execution_count": 5,
   "metadata": {},
   "outputs": [
    {
     "data": {
      "text/plain": [
       "(21896, 6)"
      ]
     },
     "execution_count": 5,
     "metadata": {},
     "output_type": "execute_result"
    }
   ],
   "source": [
    "df_traffic_maps = df_traffic_maps[(df_traffic_maps['time'] != '00:00:00') & (df_traffic_maps['time'] != '00:30:00')]\n",
    "df_traffic_maps = df_traffic_maps.reset_index(drop=True)\n",
    "df_traffic_maps.shape"
   ]
  },
  {
   "attachments": {},
   "cell_type": "markdown",
   "metadata": {},
   "source": [
    "### Adding a unique time field by combining day_of_week and time"
   ]
  },
  {
   "cell_type": "code",
   "execution_count": 6,
   "metadata": {},
   "outputs": [
    {
     "data": {
      "text/html": [
       "<div>\n",
       "<style scoped>\n",
       "    .dataframe tbody tr th:only-of-type {\n",
       "        vertical-align: middle;\n",
       "    }\n",
       "\n",
       "    .dataframe tbody tr th {\n",
       "        vertical-align: top;\n",
       "    }\n",
       "\n",
       "    .dataframe thead th {\n",
       "        text-align: right;\n",
       "    }\n",
       "</style>\n",
       "<table border=\"1\" class=\"dataframe\">\n",
       "  <thead>\n",
       "    <tr style=\"text-align: right;\">\n",
       "      <th></th>\n",
       "      <th>city</th>\n",
       "      <th>app</th>\n",
       "      <th>time</th>\n",
       "      <th>day_of_week</th>\n",
       "      <th>traffic_map_iris</th>\n",
       "      <th>iris_traffic_map_srca</th>\n",
       "      <th>day_time</th>\n",
       "    </tr>\n",
       "  </thead>\n",
       "  <tbody>\n",
       "    <tr>\n",
       "      <th>0</th>\n",
       "      <td>Paris</td>\n",
       "      <td>Amazon Web Services</td>\n",
       "      <td>01:00:00</td>\n",
       "      <td>Friday</td>\n",
       "      <td>[756557.75, 441333.875, 105561.203125, 211886....</td>\n",
       "      <td>[0.057484827291603036, 0.04971500651103322, 0....</td>\n",
       "      <td>5_01:00:00</td>\n",
       "    </tr>\n",
       "    <tr>\n",
       "      <th>1</th>\n",
       "      <td>Paris</td>\n",
       "      <td>Amazon Web Services</td>\n",
       "      <td>16:00:00</td>\n",
       "      <td>Friday</td>\n",
       "      <td>[2459350.0, 1037933.375, 325833.90625, 1299623...</td>\n",
       "      <td>[-0.11984061817532497, -0.04115146238746292, 0...</td>\n",
       "      <td>5_16:00:00</td>\n",
       "    </tr>\n",
       "  </tbody>\n",
       "</table>\n",
       "</div>"
      ],
      "text/plain": [
       "    city                  app      time day_of_week   \n",
       "0  Paris  Amazon Web Services  01:00:00      Friday  \\\n",
       "1  Paris  Amazon Web Services  16:00:00      Friday   \n",
       "\n",
       "                                    traffic_map_iris   \n",
       "0  [756557.75, 441333.875, 105561.203125, 211886....  \\\n",
       "1  [2459350.0, 1037933.375, 325833.90625, 1299623...   \n",
       "\n",
       "                               iris_traffic_map_srca    day_time  \n",
       "0  [0.057484827291603036, 0.04971500651103322, 0....  5_01:00:00  \n",
       "1  [-0.11984061817532497, -0.04115146238746292, 0...  5_16:00:00  "
      ]
     },
     "execution_count": 6,
     "metadata": {},
     "output_type": "execute_result"
    }
   ],
   "source": [
    "day_list = ['Sunday', 'Monday', 'Tuesday', 'Wednesday', 'Thursday', 'Friday', 'Saturday']\n",
    "df_traffic_maps['day_time'] = df_traffic_maps.apply(lambda row: f'{day_list.index(row[\"day_of_week\"])}_{row[\"time\"]}', axis=1)\n",
    "df_traffic_maps.head(2)"
   ]
  },
  {
   "attachments": {},
   "cell_type": "markdown",
   "metadata": {},
   "source": [
    "### Removing undesired apps"
   ]
  },
  {
   "cell_type": "code",
   "execution_count": 7,
   "metadata": {},
   "outputs": [],
   "source": [
    "apps_to_del = [\n",
    "    'Apple App Store',\n",
    "    'Apple Siri',\n",
    "    'Apple Web Services',\n",
    "    'Apple iCloud',\n",
    "    'Fornite',\n",
    "    'Microsoft Skydrive',\n",
    "    'Microsoft Store',\n",
    "    'Microsoft Web Services',\n",
    "    'Molotov TV',\n",
    "    'Tor',\n",
    "    'Web Adults',\n",
    "]"
   ]
  },
  {
   "cell_type": "code",
   "execution_count": null,
   "metadata": {},
   "outputs": [],
   "source": []
  },
  {
   "attachments": {},
   "cell_type": "markdown",
   "metadata": {},
   "source": [
    "### Make Tensor"
   ]
  },
  {
   "cell_type": "code",
   "execution_count": 8,
   "metadata": {},
   "outputs": [
    {
     "name": "stdout",
     "output_type": "stream",
     "text": [
      "(2800, 58, 322)\n"
     ]
    }
   ],
   "source": [
    "day_times = sorted(list(set(df_traffic_maps['day_time'])))\n",
    "apps = list(set(df_traffic_maps['app']))\n",
    "apps = sorted(list(set(apps) - set(apps_to_del)))\n",
    "\n",
    "day_times_dim = len(day_times)\n",
    "app_dim = len(apps)\n",
    "space_dim = len(df_traffic_maps['iris_traffic_map_srca'].iloc[0])\n",
    "\n",
    "day_times_idx = {t: i for i, t in enumerate(day_times)}\n",
    "apps_idx = {a: i for i, a in enumerate(apps)}\n",
    "\n",
    "tensor = np.zeros((space_dim, app_dim, day_times_dim))\n",
    "print(tensor.shape)"
   ]
  },
  {
   "cell_type": "code",
   "execution_count": 9,
   "metadata": {},
   "outputs": [],
   "source": [
    "#apps"
   ]
  },
  {
   "cell_type": "code",
   "execution_count": 10,
   "metadata": {},
   "outputs": [
    {
     "name": "stderr",
     "output_type": "stream",
     "text": [
      "100%|██████████| 21896/21896 [00:05<00:00, 4072.84it/s]\n"
     ]
    }
   ],
   "source": [
    "for row in tqdm(df_traffic_maps.to_dict('records')):\n",
    "    app = row['app']\n",
    "    if app in apps_to_del:\n",
    "        continue\n",
    "    day_time = row['day_time']\n",
    "    space = row['iris_traffic_map_srca'].copy()\n",
    "    # space = space[city_mask == 1]\n",
    "\n",
    "    app_idx = apps_idx[app]\n",
    "    time_idx = day_times_idx[day_time]\n",
    "    tensor[:, app_idx, time_idx] = space"
   ]
  },
  {
   "attachments": {},
   "cell_type": "markdown",
   "metadata": {},
   "source": [
    "### Save Tensor"
   ]
  },
  {
   "cell_type": "code",
   "execution_count": null,
   "metadata": {},
   "outputs": [],
   "source": [
    "fd = open(f'{DATA_DIR}/iris_tensor_rm_midnight.pkl', 'wb')\n",
    "pkl.dump([tensor], fd)\n",
    "fd.close()"
   ]
  }
 ],
 "metadata": {
  "kernelspec": {
   "display_name": "dataScience",
   "language": "python",
   "name": "datascience"
  },
  "language_info": {
   "codemirror_mode": {
    "name": "ipython",
    "version": 3
   },
   "file_extension": ".py",
   "mimetype": "text/x-python",
   "name": "python",
   "nbconvert_exporter": "python",
   "pygments_lexer": "ipython3",
   "version": "3.8.13"
  },
  "orig_nbformat": 4
 },
 "nbformat": 4,
 "nbformat_minor": 2
}
